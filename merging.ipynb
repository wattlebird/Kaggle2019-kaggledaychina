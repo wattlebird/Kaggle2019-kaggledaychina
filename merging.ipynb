{
 "cells": [
  {
   "cell_type": "code",
   "execution_count": 17,
   "metadata": {},
   "outputs": [],
   "source": [
    "import pandas as pd\n",
    "import numpy as np\n",
    "\n",
    "submission_baseline = \"/home/ike/Downloads/submission_baseline.csv\"\n",
    "submission_resnet34 = \"/home/ike/Downloads/submission_06.csv\"\n",
    "submission_resnet18 = \"./submission_04.csv\"\n",
    "submission_resnet50 = \"/home/ike/Downloads/submission_10.csv\"\n",
    "submission_final01 = \"/home/ike/Downloads/final0.csv\"\n",
    "submission_final02 = \"/home/ike/Downloads/final1.csv\"\n",
    "submission_final03 = \"/home/ike/Downloads/final2.csv\"\n",
    "submission_final04 = \"/home/ike/Downloads/final3.csv\"\n",
    "submission_final05 = \"/home/ike/Downloads/final4.csv\"\n",
    "submission_merged = \"./submission_merge_03.csv\"\n",
    "\n",
    "outputs = [submission_baseline, submission_resnet34, submission_resnet18, submission_resnet50, submission_merged]"
   ]
  },
  {
   "cell_type": "code",
   "execution_count": 18,
   "metadata": {},
   "outputs": [],
   "source": [
    "subs = []\n",
    "for i, fileName in enumerate(outputs):\n",
    "    subs.append(pd.read_csv(f\"{outputs[i]}\", index_col=\"id\").add_suffix(f\"_{i}\"))"
   ]
  },
  {
   "cell_type": "code",
   "execution_count": 19,
   "metadata": {},
   "outputs": [],
   "source": [
    "sub = pd.concat(subs, axis=1)"
   ]
  },
  {
   "cell_type": "code",
   "execution_count": 20,
   "metadata": {},
   "outputs": [],
   "source": [
    "sub.median(axis=1).rename(\"is_star\").to_frame().to_csv(\"submission_merge_04.csv\")"
   ]
  },
  {
   "cell_type": "code",
   "execution_count": 7,
   "metadata": {},
   "outputs": [],
   "source": [
    "sub = sub.median(axis=1).rename(\"is_star\").to_frame()"
   ]
  },
  {
   "cell_type": "code",
   "execution_count": 8,
   "metadata": {},
   "outputs": [
    {
     "data": {
      "text/html": [
       "<div>\n",
       "<style scoped>\n",
       "    .dataframe tbody tr th:only-of-type {\n",
       "        vertical-align: middle;\n",
       "    }\n",
       "\n",
       "    .dataframe tbody tr th {\n",
       "        vertical-align: top;\n",
       "    }\n",
       "\n",
       "    .dataframe thead th {\n",
       "        text-align: right;\n",
       "    }\n",
       "</style>\n",
       "<table border=\"1\" class=\"dataframe\">\n",
       "  <thead>\n",
       "    <tr style=\"text-align: right;\">\n",
       "      <th></th>\n",
       "      <th>is_star</th>\n",
       "    </tr>\n",
       "    <tr>\n",
       "      <th>id</th>\n",
       "      <th></th>\n",
       "    </tr>\n",
       "  </thead>\n",
       "  <tbody>\n",
       "    <tr>\n",
       "      <th>48087659b0e095ca61252d486017f3e1</th>\n",
       "      <td>0.057326</td>\n",
       "    </tr>\n",
       "    <tr>\n",
       "      <th>20a3405e95ca2988b37092f40b064f94</th>\n",
       "      <td>0.098661</td>\n",
       "    </tr>\n",
       "    <tr>\n",
       "      <th>ce5071b4fdfa0d334e5728dcafb14dc1</th>\n",
       "      <td>0.153535</td>\n",
       "    </tr>\n",
       "    <tr>\n",
       "      <th>f7b0502be8c86203ce6acaffe59f993a</th>\n",
       "      <td>0.026662</td>\n",
       "    </tr>\n",
       "    <tr>\n",
       "      <th>85ea15a7a58df1b431cdc9082fd5dfe4</th>\n",
       "      <td>0.016078</td>\n",
       "    </tr>\n",
       "  </tbody>\n",
       "</table>\n",
       "</div>"
      ],
      "text/plain": [
       "                                   is_star\n",
       "id                                        \n",
       "48087659b0e095ca61252d486017f3e1  0.057326\n",
       "20a3405e95ca2988b37092f40b064f94  0.098661\n",
       "ce5071b4fdfa0d334e5728dcafb14dc1  0.153535\n",
       "f7b0502be8c86203ce6acaffe59f993a  0.026662\n",
       "85ea15a7a58df1b431cdc9082fd5dfe4  0.016078"
      ]
     },
     "execution_count": 8,
     "metadata": {},
     "output_type": "execute_result"
    }
   ],
   "source": [
    "sub.head()"
   ]
  },
  {
   "cell_type": "code",
   "execution_count": 10,
   "metadata": {},
   "outputs": [],
   "source": [
    "sub.loc[sub.is_star < 0.05] = 0"
   ]
  },
  {
   "cell_type": "code",
   "execution_count": 11,
   "metadata": {},
   "outputs": [],
   "source": [
    "sub.loc[sub.is_star > 0.95] = 1"
   ]
  },
  {
   "cell_type": "code",
   "execution_count": 12,
   "metadata": {},
   "outputs": [],
   "source": [
    "sub.to_csv(\"submission_merge_02_force.csv\")"
   ]
  },
  {
   "cell_type": "code",
   "execution_count": null,
   "metadata": {},
   "outputs": [],
   "source": []
  }
 ],
 "metadata": {
  "kernelspec": {
   "display_name": "Python 3",
   "language": "python",
   "name": "python3"
  },
  "language_info": {
   "codemirror_mode": {
    "name": "ipython",
    "version": 3
   },
   "file_extension": ".py",
   "mimetype": "text/x-python",
   "name": "python",
   "nbconvert_exporter": "python",
   "pygments_lexer": "ipython3",
   "version": "3.6.8"
  }
 },
 "nbformat": 4,
 "nbformat_minor": 2
}
